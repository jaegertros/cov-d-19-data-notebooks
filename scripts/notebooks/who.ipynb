{
  "nbformat": 4,
  "nbformat_minor": 0,
  "metadata": {
    "kernelspec": {
      "display_name": "Python 3",
      "language": "python",
      "name": "python3"
    },
    "language_info": {
      "codemirror_mode": {
        "name": "ipython",
        "version": 3
      },
      "file_extension": ".py",
      "mimetype": "text/x-python",
      "name": "python",
      "nbconvert_exporter": "python",
      "pygments_lexer": "ipython3",
      "version": "3.7.6"
    },
    "toc": {
      "base_numbering": 1,
      "nav_menu": {},
      "number_sections": true,
      "sideBar": true,
      "skip_h1_title": true,
      "title_cell": "Table of Contents",
      "title_sidebar": "Contents",
      "toc_cell": false,
      "toc_position": {},
      "toc_section_display": true,
      "toc_window_display": false
    },
    "colab": {
      "name": "who.ipynb",
      "provenance": [],
      "include_colab_link": true
    }
  },
  "cells": [
    {
      "cell_type": "markdown",
      "metadata": {
        "id": "view-in-github",
        "colab_type": "text"
      },
      "source": [
        "<a href=\"https://colab.research.google.com/github/jaegertros/cov-d-19-data-notebooks/blob/main/scripts/notebooks/who.ipynb\" target=\"_parent\"><img src=\"https://colab.research.google.com/assets/colab-badge.svg\" alt=\"Open In Colab\"/></a>"
      ]
    },
    {
      "cell_type": "markdown",
      "metadata": {
        "id": "BO4KH9M-eNae"
      },
      "source": [
        "# Generate CSVs from COVID-19 WHO data"
      ]
    },
    {
      "cell_type": "markdown",
      "metadata": {
        "id": "ctmQ7evkeNak"
      },
      "source": [
        "## Dependencies"
      ]
    },
    {
      "cell_type": "code",
      "metadata": {
        "id": "_PjQnbZ6eNak"
      },
      "source": [
        "import pandas as pd\n",
        "import os\n",
        "from datetime import datetime\n",
        "\n",
        "INPUT_PATH = 'input/'\n",
        "OUTPUT_PATH = 'public/data/'\n",
        "\n",
        "POPULATION_CSV_PATH = os.path.join(INPUT_PATH, 'un', 'population_thousands.csv')\n",
        "REGIONS_CSV_PATH = os.path.join(INPUT_PATH, 'regions.csv')\n",
        "DEATHS_CSV_PATH = os.path.join(INPUT_PATH, 'deaths.csv')\n",
        "CASES_CSV_PATH = os.path.join(INPUT_PATH, 'cases.csv')"
      ],
      "execution_count": null,
      "outputs": []
    },
    {
      "cell_type": "code",
      "metadata": {
        "id": "oMoXAZYDeNal"
      },
      "source": [
        "!mkdir -p $OUTPUT_PATH"
      ],
      "execution_count": null,
      "outputs": []
    },
    {
      "cell_type": "markdown",
      "metadata": {
        "id": "npBkjiwOeNal"
      },
      "source": [
        "## Load the data"
      ]
    },
    {
      "cell_type": "markdown",
      "metadata": {
        "id": "sQJ3ZisreNal"
      },
      "source": [
        "Population figures"
      ]
    },
    {
      "cell_type": "code",
      "metadata": {
        "id": "Q1kXY7y3eNam"
      },
      "source": [
        "df_pop = pd.read_csv(POPULATION_CSV_PATH)"
      ],
      "execution_count": null,
      "outputs": []
    },
    {
      "cell_type": "code",
      "metadata": {
        "id": "-poB4QHteNam"
      },
      "source": [
        "# WHO includes counts for Kosovo in Serbia\n",
        "# https://www.who.int/countries/srb/en/\n",
        "df_pop['entity'] = df_pop['entity'].replace({ 'Serbia (including Kosovo)': 'Serbia' })"
      ],
      "execution_count": null,
      "outputs": []
    },
    {
      "cell_type": "code",
      "metadata": {
        "id": "b29zhRtBeNam"
      },
      "source": [
        "df_pop['population'] = df_pop['population_thousands'] * 1000"
      ],
      "execution_count": null,
      "outputs": []
    },
    {
      "cell_type": "code",
      "metadata": {
        "id": "Qk4p-oEseNam"
      },
      "source": [
        "def find_closest_year(df, year=2020):\n",
        "    df = df.copy()\n",
        "    df['year'] = df['year'].sort_values(ascending=True)\n",
        "    return df.loc[df['year'].map(lambda x: abs(x - 2020)).idxmin()]"
      ],
      "execution_count": null,
      "outputs": []
    },
    {
      "cell_type": "code",
      "metadata": {
        "id": "zLiPNf3peNan"
      },
      "source": [
        "current_pop = pd.DataFrame([\n",
        "    find_closest_year(df, 2020)\n",
        "    for loc, df in df_pop.groupby('entity')\n",
        "]) \\\n",
        ".dropna() \\\n",
        ".drop(columns=['population_thousands']) \\\n",
        ".rename(columns={'entity': 'location'})"
      ],
      "execution_count": null,
      "outputs": []
    },
    {
      "cell_type": "markdown",
      "metadata": {
        "id": "sfTur_XOeNan"
      },
      "source": [
        "WHO regions & OWID names"
      ]
    },
    {
      "cell_type": "code",
      "metadata": {
        "id": "DD-7PLn8eNan"
      },
      "source": [
        "df_regions = pd.read_csv(REGIONS_CSV_PATH)"
      ],
      "execution_count": null,
      "outputs": []
    },
    {
      "cell_type": "code",
      "metadata": {
        "id": "C_vDixKjeNan"
      },
      "source": [
        "df_regions = df_regions.merge(\n",
        "    current_pop[['location', 'population']],\n",
        "    how='left',\n",
        "    left_on='OWID Country Name',\n",
        "    right_on='location'\n",
        ").drop(columns=['location'])\n",
        "# Convert population figures to ints\n",
        "df_regions['population'] = df_regions['population'].round().astype('Int64')\n",
        "# Add a more descriptive header\n",
        "df_regions = df_regions.rename(columns={'population': 'Population (UN 2020 projection)'})"
      ],
      "execution_count": null,
      "outputs": []
    },
    {
      "cell_type": "markdown",
      "metadata": {
        "id": "Rym7EdP2eNao"
      },
      "source": [
        "Transform the \"wide\" format into \"long\" format, which is easier to work with."
      ]
    },
    {
      "cell_type": "code",
      "metadata": {
        "id": "7Ms5e3omeNao"
      },
      "source": [
        "def melt_csv(df, var_name):\n",
        "    return df.melt(\n",
        "        id_vars=df.columns[0], \n",
        "        value_vars=df.columns[1:], \n",
        "        var_name='location', \n",
        "        value_name=var_name\n",
        "    ).dropna()"
      ],
      "execution_count": null,
      "outputs": []
    },
    {
      "cell_type": "code",
      "metadata": {
        "id": "1WXNTHG1eNao"
      },
      "source": [
        "df_deaths = melt_csv(pd.read_csv(DEATHS_CSV_PATH, header=1).rename(columns={ 'Date': 'date' }), 'total_deaths')\n",
        "df_cases = melt_csv(pd.read_csv(CASES_CSV_PATH, header=1).rename(columns={ 'Date': 'date' }), 'total_cases')"
      ],
      "execution_count": null,
      "outputs": []
    },
    {
      "cell_type": "markdown",
      "metadata": {
        "id": "9NGNNC_ceNao"
      },
      "source": [
        "Convert all numbers from floating point to integers:"
      ]
    },
    {
      "cell_type": "code",
      "metadata": {
        "id": "lj2yBlC8eNap"
      },
      "source": [
        "df_deaths['total_deaths'] = df_deaths['total_deaths'].astype('Int64')\n",
        "df_cases['total_cases'] = df_cases['total_cases'].astype('Int64')"
      ],
      "execution_count": null,
      "outputs": []
    },
    {
      "cell_type": "markdown",
      "metadata": {
        "id": "PMT2d8HdeNap"
      },
      "source": [
        "## Calculations"
      ]
    },
    {
      "cell_type": "markdown",
      "metadata": {
        "id": "tbaKxxOXeNap"
      },
      "source": [
        "Join cases & deaths into one dataframe"
      ]
    },
    {
      "cell_type": "code",
      "metadata": {
        "id": "egi5m6y6eNap"
      },
      "source": [
        "df_merged = df_cases.merge(\n",
        "    df_deaths, \n",
        "    how='outer', \n",
        "    left_on=['date', 'location'], \n",
        "    right_on=['date', 'location']\n",
        ").sort_values(by=['location', 'date'])"
      ],
      "execution_count": null,
      "outputs": []
    },
    {
      "cell_type": "markdown",
      "metadata": {
        "id": "u_VJE8dEeNap"
      },
      "source": [
        "Standardize names to OWID names"
      ]
    },
    {
      "cell_type": "code",
      "metadata": {
        "id": "G7Vf73KneNaq"
      },
      "source": [
        "df_regions_merged = df_regions.merge(\n",
        "    df_merged[['location']].drop_duplicates(),\n",
        "    how=\"outer\",\n",
        "    left_on=\"WHO Country Name\",\n",
        "    right_on=\"location\"\n",
        ")"
      ],
      "execution_count": null,
      "outputs": []
    },
    {
      "cell_type": "code",
      "metadata": {
        "id": "Dq83pzEAeNaq",
        "outputId": "102c6b95-b8b5-48aa-ce36-569cbbc639b7"
      },
      "source": [
        "df_regions_merged[df_regions_merged['OWID Country Name'].isnull()]"
      ],
      "execution_count": null,
      "outputs": [
        {
          "output_type": "execute_result",
          "data": {
            "text/html": [
              "<div>\n",
              "<style scoped>\n",
              "    .dataframe tbody tr th:only-of-type {\n",
              "        vertical-align: middle;\n",
              "    }\n",
              "\n",
              "    .dataframe tbody tr th {\n",
              "        vertical-align: top;\n",
              "    }\n",
              "\n",
              "    .dataframe thead th {\n",
              "        text-align: right;\n",
              "    }\n",
              "</style>\n",
              "<table border=\"1\" class=\"dataframe\">\n",
              "  <thead>\n",
              "    <tr style=\"text-align: right;\">\n",
              "      <th></th>\n",
              "      <th>WHO Country Name</th>\n",
              "      <th>WHO Region</th>\n",
              "      <th>OWID Country Name</th>\n",
              "      <th>Population (UN 2020 projection)</th>\n",
              "      <th>location</th>\n",
              "    </tr>\n",
              "  </thead>\n",
              "  <tbody>\n",
              "  </tbody>\n",
              "</table>\n",
              "</div>"
            ],
            "text/plain": [
              "Empty DataFrame\n",
              "Columns: [WHO Country Name, WHO Region, OWID Country Name, Population (UN 2020 projection), location]\n",
              "Index: []"
            ]
          },
          "metadata": {
            "tags": []
          },
          "execution_count": 106
        }
      ]
    },
    {
      "cell_type": "code",
      "metadata": {
        "id": "qd0Vh3EVeNar"
      },
      "source": [
        "assert(df_regions_merged['OWID Country Name'].isnull().any() == False)"
      ],
      "execution_count": null,
      "outputs": []
    },
    {
      "cell_type": "code",
      "metadata": {
        "id": "oBJzRYbfeNar"
      },
      "source": [
        "who_name_replace_map = { r['WHO Country Name']: r['OWID Country Name'] for r in df_regions_merged.to_dict('records') }"
      ],
      "execution_count": null,
      "outputs": []
    },
    {
      "cell_type": "code",
      "metadata": {
        "id": "a1KnjBrveNar"
      },
      "source": [
        "df_merged['location'] = df_merged['location'].replace(who_name_replace_map)"
      ],
      "execution_count": null,
      "outputs": []
    },
    {
      "cell_type": "markdown",
      "metadata": {
        "id": "DWSFLpoBeNar"
      },
      "source": [
        "Calculate daily cases & deaths"
      ]
    },
    {
      "cell_type": "code",
      "metadata": {
        "id": "NHFX1x70eNar"
      },
      "source": [
        "# Convert to Int64 to handle <NA>\n",
        "df_merged['new_cases'] = df_merged.groupby('location')['total_cases'].diff().astype('Int64')\n",
        "df_merged['new_deaths'] = df_merged.groupby('location')['total_deaths'].diff().astype('Int64')"
      ],
      "execution_count": null,
      "outputs": []
    },
    {
      "cell_type": "markdown",
      "metadata": {
        "id": "pTOdKKlKeNas"
      },
      "source": [
        "Create a `World` aggregate"
      ]
    },
    {
      "cell_type": "code",
      "metadata": {
        "id": "KTBwE_BWeNas"
      },
      "source": [
        "df_global = df_merged.groupby('date').sum().reset_index()\n",
        "df_global['location'] = 'World'"
      ],
      "execution_count": null,
      "outputs": []
    },
    {
      "cell_type": "code",
      "metadata": {
        "id": "6iGI_IrJeNas"
      },
      "source": [
        "df_merged = pd.concat([df_merged, df_global], sort=True)"
      ],
      "execution_count": null,
      "outputs": []
    },
    {
      "cell_type": "markdown",
      "metadata": {
        "id": "utwYsnJMeNas"
      },
      "source": [
        "Calculate per population variables"
      ]
    },
    {
      "cell_type": "code",
      "metadata": {
        "id": "tQzjcmmreNas"
      },
      "source": [
        "df_merged_pop = df_merged.merge(\n",
        "    current_pop,\n",
        "    how='left',\n",
        "    on='location'\n",
        ")"
      ],
      "execution_count": null,
      "outputs": []
    },
    {
      "cell_type": "code",
      "metadata": {
        "id": "rQuANMY3eNas",
        "outputId": "4afe5f12-553e-4761-eb02-25ac6a39b884"
      },
      "source": [
        "# These entities do not exist in the UN population dataset but do in the WHO data\n",
        "df_merged_pop[df_merged_pop['population'].isnull()]['location'].unique()"
      ],
      "execution_count": null,
      "outputs": [
        {
          "output_type": "execute_result",
          "data": {
            "text/plain": [
              "array(['Andorra', 'Cayman Islands', 'Faeroe Islands', 'Gibraltar',\n",
              "       'Guadeloupe', 'Guernsey', 'Vatican', 'International', 'Jersey',\n",
              "       'Liechtenstein', 'Monaco', 'Saint Barthlemy',\n",
              "       'Saint Martin (French part)', 'San Marino'], dtype=object)"
            ]
          },
          "metadata": {
            "tags": []
          },
          "execution_count": 23
        }
      ]
    },
    {
      "cell_type": "code",
      "metadata": {
        "id": "026vdOGueNat"
      },
      "source": [
        "df_merged_pop['total_cases_per_million'] = df_merged_pop['total_cases'] / (df_merged_pop['population'] / 1e6)\n",
        "df_merged_pop['total_deaths_per_million'] = df_merged_pop['total_deaths'] / (df_merged_pop['population'] / 1e6)\n",
        "df_merged_pop['new_cases_per_million'] = df_merged_pop['new_cases'] / (df_merged_pop['population'] / 1e6)\n",
        "df_merged_pop['new_deaths_per_million'] = df_merged_pop['new_deaths'] / (df_merged_pop['population'] / 1e6)"
      ],
      "execution_count": null,
      "outputs": []
    },
    {
      "cell_type": "code",
      "metadata": {
        "id": "qUY4CF-7eNat"
      },
      "source": [
        "df_merged = df_merged_pop.drop(columns=['year', 'population'])"
      ],
      "execution_count": null,
      "outputs": []
    },
    {
      "cell_type": "markdown",
      "metadata": {
        "id": "uqdMvI8NeNat"
      },
      "source": [
        "Calculate days since 100th case"
      ]
    },
    {
      "cell_type": "code",
      "metadata": {
        "id": "uh9tCxrqeNat"
      },
      "source": [
        "THRESHOLD = 100\n",
        "DAYS_SINCE_COL_NAME = 'days_since_%sth_case' % THRESHOLD\n",
        "DAYS_SINCE_COL_NAME_POSITIVE = 'days_since_%sth_case_positive' % THRESHOLD"
      ],
      "execution_count": null,
      "outputs": []
    },
    {
      "cell_type": "code",
      "metadata": {
        "id": "Qda4828GeNau"
      },
      "source": [
        "def get_date_of_nth_case(df, nth):\n",
        "    try:\n",
        "        df_gt_nth = df[df['total_cases'] >= nth]\n",
        "        earliest = df.loc[pd.to_datetime(df_gt_nth['date']).idxmin()]\n",
        "        return earliest['date']\n",
        "    except:\n",
        "        return None"
      ],
      "execution_count": null,
      "outputs": []
    },
    {
      "cell_type": "code",
      "metadata": {
        "id": "6T3QtuugeNau"
      },
      "source": [
        "date_of_nth_case = pd.DataFrame([\n",
        "    (loc, get_date_of_nth_case(df, THRESHOLD)) \n",
        "    for loc, df in df_merged.groupby('location')\n",
        "], columns=['location', 'date_of_nth_case']).dropna()"
      ],
      "execution_count": null,
      "outputs": []
    },
    {
      "cell_type": "code",
      "metadata": {
        "id": "bTI1uCIoeNau"
      },
      "source": [
        "def inject_days_since(df, ref_date):\n",
        "    df = df[['date', 'location']].copy()\n",
        "    df[DAYS_SINCE_COL_NAME] = df['date'].map(lambda date: (pd.to_datetime(date) - pd.to_datetime(ref_date)).days)\n",
        "    return df"
      ],
      "execution_count": null,
      "outputs": []
    },
    {
      "cell_type": "code",
      "metadata": {
        "id": "CNDlICBveNav"
      },
      "source": [
        "df_grouped = df_merged.groupby('location')\n",
        "df_days_since_nth_case = pd.concat([\n",
        "    inject_days_since(df_grouped.get_group(row['location']), row['date_of_nth_case']) \n",
        "    for _, row in date_of_nth_case.iterrows()\n",
        "])"
      ],
      "execution_count": null,
      "outputs": []
    },
    {
      "cell_type": "code",
      "metadata": {
        "id": "Ydt86UdUeNav"
      },
      "source": [
        "df_merged = df_merged.merge(\n",
        "    df_days_since_nth_case,\n",
        "    how='outer',\n",
        "    on=['date', 'location'],\n",
        ")\n",
        "df_merged[DAYS_SINCE_COL_NAME] = df_merged[DAYS_SINCE_COL_NAME].astype('Int64')\n",
        "df_merged[DAYS_SINCE_COL_NAME_POSITIVE] = df_merged[DAYS_SINCE_COL_NAME] \\\n",
        "    .map(lambda x: x if (pd.notna(x) and x >= 0) else None).astype('Int64')"
      ],
      "execution_count": null,
      "outputs": []
    },
    {
      "cell_type": "markdown",
      "metadata": {
        "id": "nTqLkxOXeNav"
      },
      "source": [
        "Calculate doubling rates"
      ]
    },
    {
      "cell_type": "code",
      "metadata": {
        "id": "XhdHEOgJeNav"
      },
      "source": [
        "def get_days_to_double(df, col_name):\n",
        "    try:\n",
        "        # verbose because being very careful not to modify original data with dates\n",
        "        latest = df.loc[pd.to_datetime(df['date']).idxmax()]\n",
        "        df_lt_half = df[df[col_name] <= (latest[col_name] / 2)]\n",
        "        half = df_lt_half.loc[pd.to_datetime(df_lt_half['date']).idxmax()]\n",
        "        return (pd.to_datetime(latest['date']) - pd.to_datetime(half['date'])).days\n",
        "    except:\n",
        "        return None"
      ],
      "execution_count": null,
      "outputs": []
    },
    {
      "cell_type": "code",
      "metadata": {
        "id": "lT0nIIxBeNav"
      },
      "source": [
        "days_to_double_cases = pd.DataFrame([\n",
        "    (loc, get_days_to_double(df, 'total_cases')) \n",
        "    for loc, df in df_merged.groupby('location')\n",
        "], columns=['location', 'days_to_double_cases'])\n",
        "days_to_double_cases['days_to_double_cases'] = days_to_double_cases['days_to_double_cases'].astype('Int64')"
      ],
      "execution_count": null,
      "outputs": []
    },
    {
      "cell_type": "markdown",
      "metadata": {
        "id": "l_xI2sA3eNaw"
      },
      "source": [
        "### Grapher data extract"
      ]
    },
    {
      "cell_type": "code",
      "metadata": {
        "id": "6Vj8iB3ueNaw"
      },
      "source": [
        "df_grapher = df_merged.copy()\n",
        "df_grapher['date'] = pd.to_datetime(df_grapher['date']).map(lambda date: (date - datetime(2020, 1, 21)).days)\n",
        "df_grapher = df_grapher[[\n",
        "    'location', 'date', \n",
        "    'new_cases', 'new_deaths', \n",
        "    'total_cases', 'total_deaths',\n",
        "    'new_cases_per_million', 'new_deaths_per_million', \n",
        "    'total_cases_per_million', 'total_deaths_per_million',\n",
        "    DAYS_SINCE_COL_NAME, DAYS_SINCE_COL_NAME_POSITIVE]] \\\n",
        "    .rename(columns={\n",
        "        'location': 'country',\n",
        "        'date': 'year',\n",
        "        'new_cases': 'Daily new confirmed cases of COVID-19',\n",
        "        'new_deaths': 'Daily new confirmed deaths due to COVID-19',\n",
        "        'total_cases': 'Total confirmed cases of COVID-19', \n",
        "        'total_deaths': 'Total confirmed deaths due to COVID-19',\n",
        "        'new_cases_per_million': 'Daily new confirmed cases of COVID-19 per million people',\n",
        "        'new_deaths_per_million': 'Daily new confirmed deaths due to COVID-19 per million people',\n",
        "        'total_cases_per_million': 'Total confirmed cases of COVID-19 per million people', \n",
        "        'total_deaths_per_million': 'Total confirmed deaths due to COVID-19 per million people',\n",
        "        DAYS_SINCE_COL_NAME: 'Days since the total confirmed cases of COVID-19 reached %s' % THRESHOLD,\n",
        "        DAYS_SINCE_COL_NAME_POSITIVE: 'Days since the total confirmed cases of COVID-19 reached %s (positive only)' % THRESHOLD,\n",
        "    \n",
        "    })"
      ],
      "execution_count": null,
      "outputs": []
    },
    {
      "cell_type": "markdown",
      "metadata": {
        "id": "Er4U9xYyeNaw"
      },
      "source": [
        "## Inspect the results"
      ]
    },
    {
      "cell_type": "code",
      "metadata": {
        "id": "FBBaWcc6eNaw"
      },
      "source": [
        "# df_merged"
      ],
      "execution_count": null,
      "outputs": []
    },
    {
      "cell_type": "code",
      "metadata": {
        "id": "Qm9fGTBleNaw"
      },
      "source": [
        "# df_merged[df_merged['location'] == 'World']"
      ],
      "execution_count": null,
      "outputs": []
    },
    {
      "cell_type": "markdown",
      "metadata": {
        "id": "XoTuF5maeNax"
      },
      "source": [
        "## Write output files"
      ]
    },
    {
      "cell_type": "code",
      "metadata": {
        "id": "AGiyCirReNax"
      },
      "source": [
        "# Should keep these append-only in case someone external depends on the order\n",
        "df_merged[[\n",
        "    'date', 'location',\n",
        "    'new_cases', 'new_deaths', \n",
        "    'total_cases', 'total_deaths']] \\\n",
        "    .to_csv(os.path.join(OUTPUT_PATH, 'full_data.csv'), index=False)"
      ],
      "execution_count": null,
      "outputs": []
    },
    {
      "cell_type": "code",
      "metadata": {
        "id": "T1ffn2pTeNax"
      },
      "source": [
        "for col_name in [\n",
        "    'total_cases', 'total_deaths', \n",
        "    'new_cases', 'new_deaths',\n",
        "    'total_cases_per_million', 'total_deaths_per_million', \n",
        "    'new_cases_per_million', 'new_deaths_per_million']:\n",
        "    df_pivot = df_merged.pivot(index='date', columns='location', values=col_name)\n",
        "    # move World to first column\n",
        "    cols = df_pivot.columns.tolist()\n",
        "    cols.insert(0, cols.pop(cols.index('World')))\n",
        "    df_pivot[cols].to_csv(os.path.join(OUTPUT_PATH, '%s.csv' % col_name))"
      ],
      "execution_count": null,
      "outputs": []
    },
    {
      "cell_type": "code",
      "metadata": {
        "id": "2OSMSi5aeNax"
      },
      "source": [
        "days_to_double_cases.to_csv(os.path.join(OUTPUT_PATH, 'days_to_double_cases.csv'), index=False)"
      ],
      "execution_count": null,
      "outputs": []
    },
    {
      "cell_type": "code",
      "metadata": {
        "id": "Q8PIh92GeNax"
      },
      "source": [
        "df_regions.to_csv(os.path.join(OUTPUT_PATH, 'regions.csv'), index=False)"
      ],
      "execution_count": null,
      "outputs": []
    },
    {
      "cell_type": "code",
      "metadata": {
        "id": "erZEDggUeNax"
      },
      "source": [
        "df_grapher.to_csv(os.path.join(OUTPUT_PATH, 'grapher.csv'), index=False)"
      ],
      "execution_count": null,
      "outputs": []
    },
    {
      "cell_type": "code",
      "metadata": {
        "id": "_A97EoWveNay"
      },
      "source": [
        ""
      ],
      "execution_count": null,
      "outputs": []
    }
  ]
}